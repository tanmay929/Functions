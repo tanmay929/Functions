{
  "nbformat": 4,
  "nbformat_minor": 0,
  "metadata": {
    "colab": {
      "provenance": []
    },
    "kernelspec": {
      "name": "python3",
      "display_name": "Python 3"
    },
    "language_info": {
      "name": "python"
    }
  },
  "cells": [
    {
      "cell_type": "code",
      "execution_count": null,
      "metadata": {
        "id": "j71b9S9eGEry"
      },
      "outputs": [],
      "source": []
    },
    {
      "cell_type": "code",
      "source": [],
      "metadata": {
        "id": "7PC2ciW0GVC3"
      },
      "execution_count": null,
      "outputs": []
    },
    {
      "cell_type": "markdown",
      "source": [
        "#Q1What is the difference between a function and a method in Python?"
      ],
      "metadata": {
        "id": "aBmJouymGVWo"
      }
    },
    {
      "cell_type": "markdown",
      "source": [
        "Function: A function is a block of code that performs a specific task. It is defined using the def keyword and can be called independently. Functions can be defined outside of classes and can take any number of parameters.\n",
        "\n",
        "Example:"
      ],
      "metadata": {
        "id": "7cB0PembIJ48"
      }
    },
    {
      "cell_type": "code",
      "source": [
        "def add(a, b):\n",
        "    return a + b\n"
      ],
      "metadata": {
        "id": "UtgoUGhXINXp"
      },
      "execution_count": null,
      "outputs": []
    },
    {
      "cell_type": "markdown",
      "source": [
        "A method is a function that is associated with an object and is typically called on an instance of a class. Methods are defined within a class and operate on the instance or class they belong to. The first parameter of a method is typically self (for instance methods) or cls (for class methods)."
      ],
      "metadata": {
        "id": "gF8o9j06IV9w"
      }
    },
    {
      "cell_type": "code",
      "source": [
        "class Calculator:\n",
        "    def add(self, a, b):\n",
        "        return a + b\n"
      ],
      "metadata": {
        "id": "VKFo4p3pIbA0"
      },
      "execution_count": null,
      "outputs": []
    },
    {
      "cell_type": "markdown",
      "source": [
        "#Q2Explain the concept of function arguments and parameters in Python"
      ],
      "metadata": {
        "id": "byZWF-sPGXwr"
      }
    },
    {
      "cell_type": "markdown",
      "source": [
        "Parameters: These are the variables that are defined in the function declaration. They specify what kind of input the function expects when it is called.\n",
        "\n",
        "Example:"
      ],
      "metadata": {
        "id": "8QOWY5wZIfmB"
      }
    },
    {
      "cell_type": "code",
      "source": [
        "def greet(name):  # 'name' is a parameter\n",
        "    print(f\"Hello, {name}!\")\n"
      ],
      "metadata": {
        "id": "Jg4iiEUBIrhI"
      },
      "execution_count": null,
      "outputs": []
    },
    {
      "cell_type": "markdown",
      "source": [
        "Arguments: These are the actual values that are passed to the function when it is called.\n",
        "\n",
        "Example:"
      ],
      "metadata": {
        "id": "qhlG6evVI1MC"
      }
    },
    {
      "cell_type": "code",
      "source": [
        "greet(\"Alice\")  # \"Alice\" is the argument\n"
      ],
      "metadata": {
        "colab": {
          "base_uri": "https://localhost:8080/"
        },
        "id": "0hWBmIU_I29l",
        "outputId": "68361905-b170-4acf-c6df-546949fd1bfc"
      },
      "execution_count": null,
      "outputs": [
        {
          "output_type": "stream",
          "name": "stdout",
          "text": [
            "Hello, Alice!\n"
          ]
        }
      ]
    },
    {
      "cell_type": "markdown",
      "source": [
        "#Q3What are the different ways to define and call a function in Python?"
      ],
      "metadata": {
        "id": "8H8578_pGXzg"
      }
    },
    {
      "cell_type": "markdown",
      "source": [
        "Standard Function:"
      ],
      "metadata": {
        "id": "dXueapxNI6QQ"
      }
    },
    {
      "cell_type": "code",
      "source": [
        "def add(a, b):\n",
        "    return a + b\n",
        "result = add(3, 5)\n"
      ],
      "metadata": {
        "id": "uYe6OpR4I_E5"
      },
      "execution_count": null,
      "outputs": []
    },
    {
      "cell_type": "markdown",
      "source": [
        "Lambda Function (Anonymous function):"
      ],
      "metadata": {
        "id": "9xFpsAulJEkV"
      }
    },
    {
      "cell_type": "code",
      "source": [
        "add = lambda a, b: a + b\n",
        "result = add(3, 5)\n"
      ],
      "metadata": {
        "id": "0Ax2_NkgJJvU"
      },
      "execution_count": null,
      "outputs": []
    },
    {
      "cell_type": "markdown",
      "source": [
        "Function with Default Arguments:"
      ],
      "metadata": {
        "id": "CpT3KTszJNQt"
      }
    },
    {
      "cell_type": "code",
      "source": [
        "def greet(name=\"World\"):\n",
        "    print(f\"Hello, {name}!\")\n",
        "greet()  # Uses default argument\n",
        "greet(\"Alice\")  # Passes argument explicitly\n"
      ],
      "metadata": {
        "colab": {
          "base_uri": "https://localhost:8080/"
        },
        "id": "uNklUsHyJQ1q",
        "outputId": "827ec5d1-730d-4f18-d2e3-4303ae1d52fb"
      },
      "execution_count": null,
      "outputs": [
        {
          "output_type": "stream",
          "name": "stdout",
          "text": [
            "Hello, World!\n",
            "Hello, Alice!\n"
          ]
        }
      ]
    },
    {
      "cell_type": "markdown",
      "source": [
        "#Q4What is the purpose of the `return` statement in a Python function?"
      ],
      "metadata": {
        "id": "XUpiO0YIGX1o"
      }
    },
    {
      "cell_type": "markdown",
      "source": [
        "The return statement is used to exit a function and optionally return a value to the caller. If no value is specified, None is returned by default.\n",
        "\n",
        "Example:"
      ],
      "metadata": {
        "id": "I6TZ6jp1JT3b"
      }
    },
    {
      "cell_type": "code",
      "source": [
        "def add(a, b):\n",
        "    return a + b  # Returns the sum of a and b\n"
      ],
      "metadata": {
        "id": "Gb5rxC3TJXzm"
      },
      "execution_count": null,
      "outputs": []
    },
    {
      "cell_type": "markdown",
      "source": [
        "#Q5What are iterators in Python and how do they differ from iterables?"
      ],
      "metadata": {
        "id": "LnlV67WBGX75"
      }
    },
    {
      "cell_type": "markdown",
      "source": [
        "Iterable: An iterable is any Python object capable of returning its members one at a time, permitting it to be iterated over in a loop (e.g., lists, tuples). It implements the __iter__() method, which returns an iterator.\n",
        "\n",
        "Iterator: An iterator is an object representing a stream of data. It is used to iterate over an iterable. It implements two methods: __iter__() and __next__(), where __next__() returns the next item in the sequence.\n",
        "\n",
        "Difference: All iterators are iterable, but not all iterables are iterators. Iterables can be converted into iterators, which can then be used to iterate over the items one by one."
      ],
      "metadata": {
        "id": "SKDdbsKaclpw"
      }
    },
    {
      "cell_type": "markdown",
      "source": [
        "#Q6Explain the concept of generators in Python and how they are defined."
      ],
      "metadata": {
        "id": "GVzl2ErEGX-k"
      }
    },
    {
      "cell_type": "markdown",
      "source": [
        "Generators: A generator is a special type of iterator that is defined using a function with the yield keyword. Generators allow for lazy evaluation, meaning they generate items on the fly as they are needed, rather than generating all items at once and storing them in memory.\n",
        "python\n",
        "Copy code\n"
      ],
      "metadata": {
        "id": "h1T6VJ0JcpEB"
      }
    },
    {
      "cell_type": "code",
      "source": [
        "def count_up_to(max):\n",
        "    count = 1\n",
        "    while count <= max:\n",
        "        yield count\n",
        "        count += 1\n",
        "\n",
        "counter = count_up_to(3)\n",
        "for num in counter:\n",
        "    print(num)  # Output: 1, 2, 3\n"
      ],
      "metadata": {
        "colab": {
          "base_uri": "https://localhost:8080/"
        },
        "id": "y5wJ_NR3cs_Z",
        "outputId": "dc7864c3-dfa7-49a1-a0a6-dbcab8976278"
      },
      "execution_count": null,
      "outputs": [
        {
          "output_type": "stream",
          "name": "stdout",
          "text": [
            "1\n",
            "2\n",
            "3\n"
          ]
        }
      ]
    },
    {
      "cell_type": "markdown",
      "source": [
        "#Q7 What are the advantages of using generators over regular functions?"
      ],
      "metadata": {
        "id": "Z6uLqUJhGYBZ"
      }
    },
    {
      "cell_type": "markdown",
      "source": [
        "Memory Efficiency: Generators yield values one at a time and do not store them in memory, unlike regular functions that return a complete list or collection.\n",
        "\n",
        "Performance: Since generators yield values only when required, they can be more efficient, especially when working with large datasets or infinite sequences.\n",
        "\n",
        "Lazy Evaluation: Generators allow you to compute values only when they are needed, which can save computation time."
      ],
      "metadata": {
        "id": "tcmBU5BVcxRU"
      }
    },
    {
      "cell_type": "code",
      "source": [],
      "metadata": {
        "id": "4WZm67LjcwP2"
      },
      "execution_count": null,
      "outputs": []
    },
    {
      "cell_type": "markdown",
      "source": [
        "#Q8  What is a lambda function in Python and when is it typically used?"
      ],
      "metadata": {
        "id": "2Af4APPaGYD0"
      }
    },
    {
      "cell_type": "markdown",
      "source": [
        "Lambda Function: A lambda function is a small anonymous function that is defined with the lambda keyword. It can have any number of arguments but only one expression, which is evaluated and returned."
      ],
      "metadata": {
        "id": "YVMXOou3c5uE"
      }
    },
    {
      "cell_type": "code",
      "source": [
        "add = lambda x, y: x + y\n",
        "print(add(3, 5))  # Output: 8\n"
      ],
      "metadata": {
        "colab": {
          "base_uri": "https://localhost:8080/"
        },
        "id": "CcpMGZAcc-Ae",
        "outputId": "c44fa651-4c2b-42f5-980c-8587385563c5"
      },
      "execution_count": null,
      "outputs": [
        {
          "output_type": "stream",
          "name": "stdout",
          "text": [
            "8\n"
          ]
        }
      ]
    },
    {
      "cell_type": "markdown",
      "source": [
        "Typical Use: Lambda functions are often used in situations where a small function is required temporarily, such as when using functions like map(), filter(), or sorted()."
      ],
      "metadata": {
        "id": "FoavcSbTdCHO"
      }
    },
    {
      "cell_type": "markdown",
      "source": [
        "#Q9  Explain the purpose and usage of the `map()` function in Python."
      ],
      "metadata": {
        "id": "yC7_UGrjGYGr"
      }
    },
    {
      "cell_type": "markdown",
      "source": [
        "The map() function applies a given function to all items in an iterable (like a list) and returns a map object (an iterator). It allows for efficient processing of sequences without the need for a loop."
      ],
      "metadata": {
        "id": "JFKb8i_FdGXZ"
      }
    },
    {
      "cell_type": "code",
      "source": [
        "def square(x):\n",
        "    return x ** 2\n",
        "\n",
        "numbers = [1, 2, 3, 4]\n",
        "result = map(square, numbers)\n",
        "print(list(result))  # Output: [1, 4, 9, 16]\n"
      ],
      "metadata": {
        "colab": {
          "base_uri": "https://localhost:8080/"
        },
        "id": "y3Q79QLNdJqq",
        "outputId": "1cb34cae-1ad7-4406-e27a-2e95184c51e0"
      },
      "execution_count": null,
      "outputs": [
        {
          "output_type": "stream",
          "name": "stdout",
          "text": [
            "[1, 4, 9, 16]\n"
          ]
        }
      ]
    },
    {
      "cell_type": "markdown",
      "source": [
        "#Q10  What is the difference between `map()`, `reduce()`, and `filter()` functions in Python?"
      ],
      "metadata": {
        "id": "fZl2vA9kGYJW"
      }
    },
    {
      "cell_type": "markdown",
      "source": [
        "map(): Applies a function to all items in an iterable and returns an iterator.\n",
        "python\n",
        "Copy code\n"
      ],
      "metadata": {
        "id": "_DZPdq9GdMy0"
      }
    },
    {
      "cell_type": "code",
      "source": [
        "#result = map(func, iterable)\n"
      ],
      "metadata": {
        "id": "u0mgh1OFdURw"
      },
      "execution_count": null,
      "outputs": []
    },
    {
      "cell_type": "markdown",
      "source": [
        "reduce(): From the functools module, it applies a binary function (i.e., a function with two arguments) cumulatively to the items of an iterable, reducing it to a single value.\n",
        "python\n",
        "Copy code\n"
      ],
      "metadata": {
        "id": "mJ2N9laedddh"
      }
    },
    {
      "cell_type": "code",
      "source": [
        "#from functools import reduce\n",
        "#result = reduce(func, iterable)\n"
      ],
      "metadata": {
        "id": "9cclKFLrdici"
      },
      "execution_count": null,
      "outputs": []
    },
    {
      "cell_type": "markdown",
      "source": [
        "filter(): Filters items from an iterable based on a function that returns a boolean value. It only includes elements where the function returns True.\n",
        "python\n",
        "Copy code\n"
      ],
      "metadata": {
        "id": "MHC33gPWdtdJ"
      }
    },
    {
      "cell_type": "code",
      "source": [
        "#result = filter(func, iterable)\n"
      ],
      "metadata": {
        "id": "ynoP1zDlduNC"
      },
      "execution_count": null,
      "outputs": []
    },
    {
      "cell_type": "markdown",
      "source": [
        "#Q11  Using pen & Paper write the internal mechanism for sum operation using  reduce function on this given\n",
        "list:[47,11,42,13];"
      ],
      "metadata": {
        "id": "a_7SAjpShlzS"
      }
    },
    {
      "cell_type": "code",
      "source": [],
      "metadata": {
        "id": "kHffqhLRgg0J"
      },
      "execution_count": null,
      "outputs": []
    },
    {
      "cell_type": "markdown",
      "source": [
        "![QUESTION 11.jpg](data:image/jpeg;base64,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)"
      ],
      "metadata": {
        "id": "I5AlRKfcSFmK"
      }
    },
    {
      "cell_type": "code",
      "source": [],
      "metadata": {
        "id": "ANnYWAqsHYlZ"
      },
      "execution_count": null,
      "outputs": []
    },
    {
      "cell_type": "markdown",
      "source": [
        "#PRACTICAL QUESTIONS"
      ],
      "metadata": {
        "id": "F6b4FBFDHZFQ"
      }
    },
    {
      "cell_type": "markdown",
      "source": [
        "#Q12"
      ],
      "metadata": {
        "id": "yKZXjfhhGYOY"
      }
    },
    {
      "cell_type": "code",
      "source": [
        "def sum_of_even_numbers(numbers):\n",
        "    return sum(num for num in numbers if num % 2 == 0)\n",
        "\n",
        "# Example usage:\n",
        "numbers = [1, 2, 3, 4, 5, 6]\n",
        "print(sum_of_even_numbers(numbers))\n",
        "\n"
      ],
      "metadata": {
        "colab": {
          "base_uri": "https://localhost:8080/"
        },
        "id": "r5PZns9bhxdf",
        "outputId": "d702fba0-9166-45d5-941b-b4b1d1ae9e3f"
      },
      "execution_count": null,
      "outputs": [
        {
          "output_type": "stream",
          "name": "stdout",
          "text": [
            "12\n"
          ]
        }
      ]
    },
    {
      "cell_type": "markdown",
      "source": [
        "#Q13"
      ],
      "metadata": {
        "id": "iniZzYP6GYQ6"
      }
    },
    {
      "cell_type": "code",
      "source": [
        "def reverse_string(s):\n",
        "    return s[::-1]\n",
        "\n",
        "# Example usage:\n",
        "input_string = \"Hello, World!\"\n",
        "print(reverse_string(input_string))\n"
      ],
      "metadata": {
        "colab": {
          "base_uri": "https://localhost:8080/"
        },
        "id": "LbuZjSLfhyYI",
        "outputId": "92587597-c0ec-4325-8e70-58f46ad23c19"
      },
      "execution_count": null,
      "outputs": [
        {
          "output_type": "stream",
          "name": "stdout",
          "text": [
            "!dlroW ,olleH\n"
          ]
        }
      ]
    },
    {
      "cell_type": "markdown",
      "source": [
        "#Q14"
      ],
      "metadata": {
        "id": "4mBJYLeHGYTi"
      }
    },
    {
      "cell_type": "code",
      "source": [
        "def square_numbers(numbers):\n",
        "    return [num ** 2 for num in numbers]\n",
        "\n",
        "# Example usage:\n",
        "numbers = [1, 2, 3, 4, 5]\n",
        "print(square_numbers(numbers))\n"
      ],
      "metadata": {
        "colab": {
          "base_uri": "https://localhost:8080/"
        },
        "id": "eOji3OkAhzPf",
        "outputId": "8273ae83-ee32-4153-df27-536e5c757a96"
      },
      "execution_count": null,
      "outputs": [
        {
          "output_type": "stream",
          "name": "stdout",
          "text": [
            "[1, 4, 9, 16, 25]\n"
          ]
        }
      ]
    },
    {
      "cell_type": "markdown",
      "source": [
        "#Q15"
      ],
      "metadata": {
        "id": "0_QqKlNLGYWd"
      }
    },
    {
      "cell_type": "code",
      "source": [
        "def is_prime(n):\n",
        "    if n < 2:\n",
        "        return False\n",
        "    for i in range(2, int(n ** 0.5) + 1):\n",
        "        if n % i == 0:\n",
        "            return False\n",
        "    return True\n",
        "\n",
        "# Example usage:\n",
        "for num in range(1, 201):\n",
        "    if is_prime(num):\n",
        "        print(num, end=\" \")\n"
      ],
      "metadata": {
        "colab": {
          "base_uri": "https://localhost:8080/"
        },
        "id": "qe6P7831h0E2",
        "outputId": "6f11182b-b958-44b8-9d4f-7aed7ff9012c"
      },
      "execution_count": null,
      "outputs": [
        {
          "output_type": "stream",
          "name": "stdout",
          "text": [
            "2 3 5 7 11 13 17 19 23 29 31 37 41 43 47 53 59 61 67 71 73 79 83 89 97 101 103 107 109 113 127 131 137 139 149 151 157 163 167 173 179 181 191 193 197 199 "
          ]
        }
      ]
    },
    {
      "cell_type": "markdown",
      "source": [
        "#Q16"
      ],
      "metadata": {
        "id": "pS5vunMYGYZS"
      }
    },
    {
      "cell_type": "code",
      "source": [
        "class FibonacciIterator:\n",
        "    def __init__(self, n):\n",
        "        self.n = n\n",
        "        self.a, self.b = 0, 1\n",
        "        self.count = 0\n",
        "\n",
        "    def __iter__(self):\n",
        "        return self\n",
        "\n",
        "    def __next__(self):\n",
        "        if self.count < self.n:\n",
        "            result = self.a\n",
        "            self.a, self.b = self.b, self.a + self.b\n",
        "            self.count += 1\n",
        "            return result\n",
        "        else:\n",
        "            raise StopIteration\n",
        "\n",
        "# Example usage:\n",
        "fib = FibonacciIterator(10)\n",
        "for number in fib:\n",
        "    print(number, end=\" \")\n"
      ],
      "metadata": {
        "colab": {
          "base_uri": "https://localhost:8080/"
        },
        "id": "faBk21V8h0wT",
        "outputId": "be718989-f0b6-4bd9-dc4a-0f3a7432f415"
      },
      "execution_count": null,
      "outputs": [
        {
          "output_type": "stream",
          "name": "stdout",
          "text": [
            "0 1 1 2 3 5 8 13 21 34 "
          ]
        }
      ]
    },
    {
      "cell_type": "markdown",
      "source": [
        "#Q17"
      ],
      "metadata": {
        "id": "6M_DfP0LGYcH"
      }
    },
    {
      "cell_type": "code",
      "source": [
        "def powers_of_two(exponent):\n",
        "    n = 0\n",
        "    while n <= exponent:\n",
        "        yield 2 ** n\n",
        "        n += 1\n",
        "\n",
        "# Example usage:\n",
        "for power in powers_of_two(5):\n",
        "    print(power, end=\" \")\n"
      ],
      "metadata": {
        "colab": {
          "base_uri": "https://localhost:8080/"
        },
        "id": "5uPOuGUNh1id",
        "outputId": "e94d754e-1378-4695-daaf-5aeaf2c941a0"
      },
      "execution_count": null,
      "outputs": [
        {
          "output_type": "stream",
          "name": "stdout",
          "text": [
            "1 2 4 8 16 32 "
          ]
        }
      ]
    },
    {
      "cell_type": "markdown",
      "source": [
        "#Q18"
      ],
      "metadata": {
        "id": "rzZGnazfGYfT"
      }
    },
    {
      "cell_type": "code",
      "source": [
        "def read_file_line_by_line(file_path):\n",
        "    with open(file_path, 'r') as file:\n",
        "        for line in file:\n",
        "            yield line.strip()\n",
        "\n",
        "# Example usage:\n",
        "# Assuming there's a text file 'example.txt' with some content.\n",
        "# for line in read_file_line_by_line('example.txt'):\n",
        "#     print(line)\n"
      ],
      "metadata": {
        "id": "TvQLqKzqh2dh"
      },
      "execution_count": null,
      "outputs": []
    },
    {
      "cell_type": "markdown",
      "source": [
        "#Q19"
      ],
      "metadata": {
        "id": "E9IyQYWrGYiC"
      }
    },
    {
      "cell_type": "code",
      "source": [
        "data = [(1, 5), (2, 3), (4, 1), (3, 4)]\n",
        "sorted_data = sorted(data, key=lambda x: x[1])\n",
        "\n",
        "print(sorted_data)\n"
      ],
      "metadata": {
        "colab": {
          "base_uri": "https://localhost:8080/"
        },
        "id": "FJMhqyydh3FZ",
        "outputId": "de75038f-dfe6-4b82-ccbd-c3dc0f125dae"
      },
      "execution_count": null,
      "outputs": [
        {
          "output_type": "stream",
          "name": "stdout",
          "text": [
            "[(4, 1), (2, 3), (3, 4), (1, 5)]\n"
          ]
        }
      ]
    },
    {
      "cell_type": "markdown",
      "source": [
        "#Q20"
      ],
      "metadata": {
        "id": "DMigKX5VGYlT"
      }
    },
    {
      "cell_type": "code",
      "source": [
        "def celsius_to_fahrenheit(celsius):\n",
        "    return (celsius * 9/5) + 32\n",
        "\n",
        "# Example usage:\n",
        "celsius = [0, 20, 100, -10]\n",
        "fahrenheit = list(map(celsius_to_fahrenheit, celsius))\n",
        "print(fahrenheit)\n"
      ],
      "metadata": {
        "colab": {
          "base_uri": "https://localhost:8080/"
        },
        "id": "5cGOA1NTh3xF",
        "outputId": "f8dc0a08-f3e8-4ed8-94c1-b6861168f285"
      },
      "execution_count": null,
      "outputs": [
        {
          "output_type": "stream",
          "name": "stdout",
          "text": [
            "[32.0, 68.0, 212.0, 14.0]\n"
          ]
        }
      ]
    },
    {
      "cell_type": "markdown",
      "source": [
        "#Q21"
      ],
      "metadata": {
        "id": "UHZV_0N2GYn0"
      }
    },
    {
      "cell_type": "code",
      "source": [
        "def remove_vowels(s):\n",
        "    return ''.join(filter(lambda x: x.lower() not in 'aeiou', s))\n",
        "\n",
        "# Example usage:\n",
        "input_string = \"Hello, World!\"\n",
        "print(remove_vowels(input_string))\n"
      ],
      "metadata": {
        "colab": {
          "base_uri": "https://localhost:8080/"
        },
        "id": "f2OOtsJPh5BO",
        "outputId": "a5a2de45-401e-4e47-8e07-bf169eaf6a60"
      },
      "execution_count": null,
      "outputs": [
        {
          "output_type": "stream",
          "name": "stdout",
          "text": [
            "Hll, Wrld!\n"
          ]
        }
      ]
    },
    {
      "cell_type": "markdown",
      "source": [
        "#Q22"
      ],
      "metadata": {
        "id": "t3XjJ8k1GYqh"
      }
    },
    {
      "cell_type": "code",
      "source": [
        "# Sample input data: list of orders with sublists containing order number, price per item, and quantity\n",
        "orders = [\n",
        "    [1, 20.00, 3],  # Order 1: 3 items at €20 each\n",
        "    [2, 15.00, 5],  # Order 2: 5 items at €15 each\n",
        "    [3, 50.00, 1],  # Order 3: 1 item at €50\n",
        "    [4, 30.00, 4]   # Order 4: 4 items at €30 each\n",
        "]\n",
        "\n",
        "# Function to calculate totals using lambda and map\n",
        "def calculate_totals(orders):\n",
        "    return list(map(lambda order: (order[0], (order[1] * order[2]) + (10 if (order[1] * order[2]) < 100 else 0)), orders))\n",
        "\n",
        "# Get the result\n",
        "result = calculate_totals(orders)\n",
        "print(result)"
      ],
      "metadata": {
        "id": "kTaVHgsNSiZj",
        "outputId": "30d0d0b8-8f24-43e9-bd3a-b82598ae0f50",
        "colab": {
          "base_uri": "https://localhost:8080/"
        }
      },
      "execution_count": null,
      "outputs": [
        {
          "output_type": "stream",
          "name": "stdout",
          "text": [
            "[(1, 70.0), (2, 85.0), (3, 60.0), (4, 120.0)]\n"
          ]
        }
      ]
    },
    {
      "cell_type": "markdown",
      "source": [],
      "metadata": {
        "id": "lYmpZaNSGYtA"
      }
    },
    {
      "cell_type": "markdown",
      "source": [],
      "metadata": {
        "id": "GtXaoonFGYvx"
      }
    },
    {
      "cell_type": "markdown",
      "source": [],
      "metadata": {
        "id": "HRLpedBCGYyS"
      }
    },
    {
      "cell_type": "markdown",
      "source": [],
      "metadata": {
        "id": "_78jwB22GY1I"
      }
    },
    {
      "cell_type": "markdown",
      "source": [],
      "metadata": {
        "id": "GD5xFydOGZfz"
      }
    },
    {
      "cell_type": "markdown",
      "source": [],
      "metadata": {
        "id": "zMPQRCXzGZjE"
      }
    },
    {
      "cell_type": "markdown",
      "source": [],
      "metadata": {
        "id": "rdwXcJLRGZuH"
      }
    },
    {
      "cell_type": "markdown",
      "source": [],
      "metadata": {
        "id": "L9MQEwHHGZxK"
      }
    },
    {
      "cell_type": "markdown",
      "source": [],
      "metadata": {
        "id": "QD8lMXI2GZz0"
      }
    },
    {
      "cell_type": "markdown",
      "source": [],
      "metadata": {
        "id": "3VEMiWjuGZ3d"
      }
    }
  ]
}